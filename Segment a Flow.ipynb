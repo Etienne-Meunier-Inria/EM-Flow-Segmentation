{
 "cells": [
  {
   "cell_type": "markdown",
   "id": "09e3708b",
   "metadata": {},
   "source": [
    "## Load Model"
   ]
  },
  {
   "cell_type": "code",
   "execution_count": 49,
   "id": "37695ac1",
   "metadata": {},
   "outputs": [],
   "source": [
    "from Models.CoherenceNets.MethodeB import MethodeB"
   ]
  },
  {
   "cell_type": "code",
   "execution_count": null,
   "id": "b395dcf9",
   "metadata": {},
   "outputs": [],
   "source": [
    "# First you need to download the weights on our page\n",
    "ckpt = '2-Masks/checkpoint/model.ckpt'# Path of the model\n",
    "model = MethodeB.load_from_checkpoint(ckpt, strict=False).eval()"
   ]
  },
  {
   "cell_type": "code",
   "execution_count": 51,
   "id": "7a134f24",
   "metadata": {},
   "outputs": [
    {
     "data": {
      "text/plain": [
       "'l1'"
      ]
     },
     "execution_count": 51,
     "metadata": {},
     "output_type": "execute_result"
    }
   ],
   "source": [
    "model.hparams['v_distance'] # Model hparams register all parameters for the trained model"
   ]
  },
  {
   "cell_type": "markdown",
   "id": "31d2985e",
   "metadata": {},
   "source": [
    "## Load Flow Field"
   ]
  },
  {
   "cell_type": "code",
   "execution_count": 52,
   "id": "f9967a0c",
   "metadata": {},
   "outputs": [],
   "source": [
    "from csvflowdatamodule.CsvDataset import FilesLoaders"
   ]
  },
  {
   "cell_type": "code",
   "execution_count": 53,
   "id": "44ab3abb",
   "metadata": {},
   "outputs": [],
   "source": [
    "flow_path='images/00000.flo' # Example flow provided in the repo\n",
    "flow = FilesLoaders().load_file(path=flow_path, type='Flow', img_size=model.hparams['img_size'])"
   ]
  },
  {
   "cell_type": "markdown",
   "id": "8b9cd780",
   "metadata": {},
   "source": [
    "## Compute Prediction"
   ]
  },
  {
   "cell_type": "code",
   "execution_count": 83,
   "id": "7167c20a",
   "metadata": {},
   "outputs": [],
   "source": [
    "with torch.no_grad() :\n",
    "    r = model.prediction({'Flow' :flow[None]})"
   ]
  },
  {
   "cell_type": "code",
   "execution_count": 105,
   "id": "c34d7bda",
   "metadata": {},
   "outputs": [
    {
     "data": {
      "text/plain": [
       "<matplotlib.image.AxesImage at 0x7ff0804f52d0>"
      ]
     },
     "execution_count": 105,
     "metadata": {},
     "output_type": "execute_result"
    },
    {
     "data": {
      "image/png": "[encoded data removed]",
      "text/plain": [
       "<Figure size 432x288 with 1 Axes>"
      ]
     },
     "metadata": {
      "needs_background": "light"
     },
     "output_type": "display_data"
    }
   ],
   "source": [
    "plt.imshow((r['Pred'].argmax(1)[0]))"
   ]
  }
 ],
 "metadata": {
  "kernelspec": {
   "display_name": "Python 3 (ipykernel)",
   "language": "python",
   "name": "python3"
  },
  "language_info": {
   "codemirror_mode": {
    "name": "ipython",
    "version": 3
   },
   "file_extension": ".py",
   "mimetype": "text/x-python",
   "name": "python",
   "nbconvert_exporter": "python",
   "pygments_lexer": "ipython3",
   "version": "3.7.7"
  }
 },
 "nbformat": 4,
 "nbformat_minor": 5
}
